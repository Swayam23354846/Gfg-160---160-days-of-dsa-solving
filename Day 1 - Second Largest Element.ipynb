{
 "cells": [
  {
   "cell_type": "markdown",
   "id": "7c32bd19-837e-4acd-a3b0-fff34df3ff33",
   "metadata": {},
   "source": [
    "# problem statement:\n",
    "# Given an array of positive integers arr[] of size n, the task is to find secound largest element in arr. if secound largest element does not exist return -1."
   ]
  },
  {
   "cell_type": "markdown",
   "id": "056ee46e-12d4-402a-ad5a-3bd5ab0eed94",
   "metadata": {},
   "source": [
    "# Approch 1 : sorting and last second element"
   ]
  },
  {
   "cell_type": "code",
   "execution_count": 3,
   "id": "4a60b614-7633-4494-b36e-5603168a0fce",
   "metadata": {},
   "outputs": [
    {
     "name": "stdout",
     "output_type": "stream",
     "text": [
      "34\n"
     ]
    }
   ],
   "source": [
    "def secondlargest(arr):\n",
    "    n = len(arr)\n",
    "    arr.sort()\n",
    "    for i in range(n-2,-1,-1):\n",
    "        if arr[i] != arr[n-1]:\n",
    "            return arr[i]\n",
    "    return -1\n",
    "\n",
    "if __name__==\"__main__\":\n",
    "    arr = [12,35,1,10,34,1,35]\n",
    "    print(secondlargest(arr))\n",
    "\n"
   ]
  },
  {
   "cell_type": "markdown",
   "id": "8665bba5-0f41-4f27-92e3-21c2ea75092d",
   "metadata": {},
   "source": [
    "# Approch 2: Two pass search"
   ]
  },
  {
   "cell_type": "code",
   "execution_count": 5,
   "id": "2000e67c-a98f-4f80-84e5-300dadbb4164",
   "metadata": {},
   "outputs": [
    {
     "name": "stdout",
     "output_type": "stream",
     "text": [
      "34\n"
     ]
    }
   ],
   "source": [
    "def secondlargest(arr):\n",
    "    n = len(arr)\n",
    "    \n",
    "    largest = -1\n",
    "    secondlargest = -1\n",
    "    \n",
    "    for i in range(n):\n",
    "        if arr[i] > largest:\n",
    "            largest = arr[i]\n",
    "\n",
    "    for i in range(n):\n",
    "        if arr[i] > secondlargest and arr[i] != largest:\n",
    "            secondlargest = arr[i]\n",
    "    return secondlargest\n",
    "\n",
    "if __name__==\"__main__\":\n",
    "    arr = [12,35,1,10,34,1]\n",
    "    print(secondlargest(arr))"
   ]
  },
  {
   "cell_type": "markdown",
   "id": "d066fdd8-aca9-43ee-94e5-a4e8109642c3",
   "metadata": {},
   "source": [
    "# Approch 3: One pass search"
   ]
  },
  {
   "cell_type": "code",
   "execution_count": 11,
   "id": "608f5d06-6886-4a77-8d40-e48ad789857c",
   "metadata": {},
   "outputs": [
    {
     "name": "stdout",
     "output_type": "stream",
     "text": [
      "34\n"
     ]
    }
   ],
   "source": [
    "def secondlargest(arr):\n",
    "    n = len(arr)\n",
    "\n",
    "    largest = -1\n",
    "    secondlargest = -1\n",
    "\n",
    "    for i in range(n):\n",
    "        \n",
    "        if arr[i] > largest:\n",
    "            secondlargest = largest\n",
    "            largest = arr[i]\n",
    "            \n",
    "        elif arr[i]<largest and arr[i]>secondlargest:\n",
    "            secondlargest = arr[i]\n",
    "    return secondlargest\n",
    "\n",
    "if __name__==\"__main__\":\n",
    "    arr = [12,35,1,10,34,1]\n",
    "    print(secondlargest(arr))"
   ]
  }
 ],
 "metadata": {
  "kernelspec": {
   "display_name": "Python 3 (ipykernel)",
   "language": "python",
   "name": "python3"
  },
  "language_info": {
   "codemirror_mode": {
    "name": "ipython",
    "version": 3
   },
   "file_extension": ".py",
   "mimetype": "text/x-python",
   "name": "python",
   "nbconvert_exporter": "python",
   "pygments_lexer": "ipython3",
   "version": "3.12.4"
  }
 },
 "nbformat": 4,
 "nbformat_minor": 5
}
